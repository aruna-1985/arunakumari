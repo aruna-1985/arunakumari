{
  "nbformat": 4,
  "nbformat_minor": 0,
  "metadata": {
    "colab": {
      "name": "class task.ipynb",
      "provenance": [],
      "authorship_tag": "ABX9TyOKbQhbjcp0uE6l16qjUfAC",
      "include_colab_link": true
    },
    "kernelspec": {
      "name": "python3",
      "display_name": "Python 3"
    },
    "language_info": {
      "name": "python"
    }
  },
  "cells": [
    {
      "cell_type": "markdown",
      "metadata": {
        "id": "view-in-github",
        "colab_type": "text"
      },
      "source": [
        "<a href=\"https://colab.research.google.com/github/aruna20200/arunakumari/blob/master/class_task.ipynb\" target=\"_parent\"><img src=\"https://colab.research.google.com/assets/colab-badge.svg\" alt=\"Open In Colab\"/></a>"
      ]
    },
    {
      "cell_type": "code",
      "metadata": {
        "colab": {
          "base_uri": "https://localhost:8080/",
          "height": 265
        },
        "id": "NKlyK6xQIzLV",
        "outputId": "f685049d-75b5-4c84-f23b-6bc7bdd90d64"
      },
      "source": [
        "# importing matplotlib module \n",
        "from matplotlib import pyplot as plt\n",
        "  \n",
        "# Y-axis values\n",
        "y = [10, 5, 8, 4, 2]\n",
        "  \n",
        "# Function to plot histogram\n",
        "plt.hist(y)\n",
        "  \n",
        "# Function to show the plot\n",
        "plt.show()"
      ],
      "execution_count": 1,
      "outputs": [
        {
          "output_type": "display_data",
          "data": {
            "image/png": "[encoded data removed]",
            "text/plain": [
              "<Figure size 432x288 with 1 Axes>"
            ]
          },
          "metadata": {
            "tags": [],
            "needs_background": "light"
          }
        }
      ]
    },
    {
      "cell_type": "markdown",
      "metadata": {
        "id": "D0P96golI9Tm"
      },
      "source": [
        "scatter plot"
      ]
    },
    {
      "cell_type": "code",
      "metadata": {
        "colab": {
          "base_uri": "https://localhost:8080/",
          "height": 265
        },
        "id": "Wbw5RNHOI7HO",
        "outputId": "8778bbd8-484c-4398-c17b-233a34d60267"
      },
      "source": [
        "# importing matplotlib module \n",
        "from matplotlib import pyplot as plt\n",
        "  \n",
        "# x-axis values\n",
        "x = [5, 2, 9, 4, 7]\n",
        "  \n",
        "# Y-axis values\n",
        "y = [10, 5, 8, 4, 2]\n",
        "  \n",
        "# Function to plot scatter\n",
        "plt.scatter(x, y)\n",
        "  \n",
        "# function to show the plot\n",
        "plt.show()"
      ],
      "execution_count": 2,
      "outputs": [
        {
          "output_type": "display_data",
          "data": {
            "image/png": "[encoded data removed]",
            "text/plain": [
              "<Figure size 432x288 with 1 Axes>"
            ]
          },
          "metadata": {
            "tags": [],
            "needs_background": "light"
          }
        }
      ]
    }
  ]
}